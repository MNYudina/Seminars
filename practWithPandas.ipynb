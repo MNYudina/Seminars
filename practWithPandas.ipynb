{
  "nbformat": 4,
  "nbformat_minor": 0,
  "metadata": {
    "colab": {
      "name": "practWithPandas.ipynb",
      "provenance": [],
      "collapsed_sections": [],
      "authorship_tag": "ABX9TyNun9mqcLvoltkkCaIG5Ltf",
      "include_colab_link": true
    },
    "kernelspec": {
      "name": "python3",
      "display_name": "Python 3"
    }
  },
  "cells": [
    {
      "cell_type": "markdown",
      "metadata": {
        "id": "view-in-github",
        "colab_type": "text"
      },
      "source": [
        "<a href=\"https://colab.research.google.com/github/MNYudina/Seminars/blob/master/practWithPandas.ipynb\" target=\"_parent\"><img src=\"https://colab.research.google.com/assets/colab-badge.svg\" alt=\"Open In Colab\"/></a>"
      ]
    },
    {
      "cell_type": "code",
      "metadata": {
        "id": "lJG7Z3Kb6qHb",
        "colab_type": "code",
        "colab": {}
      },
      "source": [
        "# импортируем библиотеки numpy и pandas, and DataFrame / Series\n",
        "import numpy as np\n",
        "import pandas as pd\n",
        "# from pandas import DataFrame, Series\n",
        "\n",
        "# импортируем библиотеку datatime для работу с датами\n",
        "import datetime\n",
        "from datetime import datetime, date\n",
        "\n",
        "# Задаем некоторые опции pandas, которые настраивают вывод\n",
        "pd.set_option('display.notebook_repr_html', False)\n",
        "pd.set_option('display.max_columns', 10)\n",
        "pd.set_option('display.max_rows', 10)\n",
        "\n",
        "# Импортируем matplotlib для построения графиков\n",
        "import matplotlib.pyplot as plt\n",
        "%matplotlib inline\n",
        "# вот что нашла про магическую команду %matplotlib https://pyprog.pro/mpl/mpl_magic_teams.html"
      ],
      "execution_count": 8,
      "outputs": []
    },
    {
      "cell_type": "markdown",
      "metadata": {
        "id": "hmUZFf1TBIEY",
        "colab_type": "text"
      },
      "source": [
        "Series - это набор данных. Что-то вроде ассоциированного списка (Map в java)[Текст ссылки]"
      ]
    },
    {
      "cell_type": "code",
      "metadata": {
        "id": "xDq2VwDO_HaT",
        "colab_type": "code",
        "colab": {
          "base_uri": "https://localhost:8080/",
          "height": 197
        },
        "outputId": "683c2ce0-e1c7-4ae9-90ff-8889dd302f69"
      },
      "source": [
        "# Создаем из четырех элементов объект Series\n",
        "s = Series([1, 2, 3, 4])\n",
        "s"
      ],
      "execution_count": 9,
      "outputs": [
        {
          "output_type": "error",
          "ename": "NameError",
          "evalue": "ignored",
          "traceback": [
            "\u001b[0;31m---------------------------------------------------------------------------\u001b[0m",
            "\u001b[0;31mNameError\u001b[0m                                 Traceback (most recent call last)",
            "\u001b[0;32m<ipython-input-9-5208d30dbf8c>\u001b[0m in \u001b[0;36m<module>\u001b[0;34m()\u001b[0m\n\u001b[1;32m      1\u001b[0m \u001b[0;31m# Создаем из четырех элементов объект Series\u001b[0m\u001b[0;34m\u001b[0m\u001b[0;34m\u001b[0m\u001b[0;34m\u001b[0m\u001b[0m\n\u001b[0;32m----> 2\u001b[0;31m \u001b[0ms\u001b[0m \u001b[0;34m=\u001b[0m \u001b[0mSeries\u001b[0m\u001b[0;34m(\u001b[0m\u001b[0;34m[\u001b[0m\u001b[0;36m1\u001b[0m\u001b[0;34m,\u001b[0m \u001b[0;36m2\u001b[0m\u001b[0;34m,\u001b[0m \u001b[0;36m3\u001b[0m\u001b[0;34m,\u001b[0m \u001b[0;36m4\u001b[0m\u001b[0;34m]\u001b[0m\u001b[0;34m)\u001b[0m\u001b[0;34m\u001b[0m\u001b[0;34m\u001b[0m\u001b[0m\n\u001b[0m\u001b[1;32m      3\u001b[0m \u001b[0ms\u001b[0m\u001b[0;34m\u001b[0m\u001b[0;34m\u001b[0m\u001b[0m\n",
            "\u001b[0;31mNameError\u001b[0m: name 'Series' is not defined"
          ]
        }
      ]
    },
    {
      "cell_type": "code",
      "metadata": {
        "id": "xA1n5_BlYSjF",
        "colab_type": "code",
        "colab": {
          "base_uri": "https://localhost:8080/",
          "height": 180
        },
        "outputId": "c2e1e0ff-d6ae-40ce-d5ea-37483f5a68e2"
      },
      "source": [
        "# получаем значение для метри индекса 1\n",
        "s[1]"
      ],
      "execution_count": 1,
      "outputs": [
        {
          "output_type": "error",
          "ename": "NameError",
          "evalue": "ignored",
          "traceback": [
            "\u001b[0;31m---------------------------------------------------------------------------\u001b[0m",
            "\u001b[0;31mNameError\u001b[0m                                 Traceback (most recent call last)",
            "\u001b[0;32m<ipython-input-1-027f17b1e03d>\u001b[0m in \u001b[0;36m<module>\u001b[0;34m()\u001b[0m\n\u001b[1;32m      1\u001b[0m \u001b[0;31m# получаем значение для метри индекса 1\u001b[0m\u001b[0;34m\u001b[0m\u001b[0;34m\u001b[0m\u001b[0;34m\u001b[0m\u001b[0m\n\u001b[0;32m----> 2\u001b[0;31m \u001b[0ms\u001b[0m\u001b[0;34m[\u001b[0m\u001b[0;36m1\u001b[0m\u001b[0;34m]\u001b[0m\u001b[0;34m\u001b[0m\u001b[0;34m\u001b[0m\u001b[0m\n\u001b[0m",
            "\u001b[0;31mNameError\u001b[0m: name 's' is not defined"
          ]
        }
      ]
    },
    {
      "cell_type": "code",
      "metadata": {
        "id": "A0w9DH6N_ixn",
        "colab_type": "code",
        "colab": {
          "base_uri": "https://localhost:8080/",
          "height": 104
        },
        "outputId": "a8e9be31-c8a4-49e2-88ad-0993b953e30f"
      },
      "source": [
        "# create a series using an explicit index\n",
        "s = Series([1, 2, 3, 4], \n",
        "           index = ['a', 'b', 'c', 'd'])\n",
        "s"
      ],
      "execution_count": null,
      "outputs": [
        {
          "output_type": "execute_result",
          "data": {
            "text/plain": [
              "a    1\n",
              "b    2\n",
              "c    3\n",
              "d    4\n",
              "dtype: int64"
            ]
          },
          "metadata": {
            "tags": []
          },
          "execution_count": 3
        }
      ]
    },
    {
      "cell_type": "code",
      "metadata": {
        "id": "d488Sh5B_p4T",
        "colab_type": "code",
        "colab": {
          "base_uri": "https://localhost:8080/",
          "height": 69
        },
        "outputId": "d110260c-ac41-4418-9fee-99ba6c63d292"
      },
      "source": [
        "# look up items the series having index 'a' and 'd'\n",
        "s[['a', 'd']]"
      ],
      "execution_count": null,
      "outputs": [
        {
          "output_type": "execute_result",
          "data": {
            "text/plain": [
              "a    1\n",
              "d    4\n",
              "dtype: int64"
            ]
          },
          "metadata": {
            "tags": []
          },
          "execution_count": 4
        }
      ]
    },
    {
      "cell_type": "code",
      "metadata": {
        "id": "1Xe_GjR6_sfk",
        "colab_type": "code",
        "colab": {
          "base_uri": "https://localhost:8080/",
          "height": 69
        },
        "outputId": "038420ea-977a-4868-df4e-cf0e53cc5af2"
      },
      "source": [
        "# passing a list of integers to a Series that has\n",
        "# non-integer index labels will look up based upon\n",
        "# 0-based index like an array\n",
        "s[[1, 2]]"
      ],
      "execution_count": null,
      "outputs": [
        {
          "output_type": "execute_result",
          "data": {
            "text/plain": [
              "b    2\n",
              "c    3\n",
              "dtype: int64"
            ]
          },
          "metadata": {
            "tags": []
          },
          "execution_count": 5
        }
      ]
    },
    {
      "cell_type": "code",
      "metadata": {
        "id": "hvDjXwyr_z8H",
        "colab_type": "code",
        "colab": {
          "base_uri": "https://localhost:8080/",
          "height": 34
        },
        "outputId": "1e2c634f-8b24-49d1-a4d2-0294a5d22c07"
      },
      "source": [
        "# get only the index of the Series\n",
        "s.index\n"
      ],
      "execution_count": null,
      "outputs": [
        {
          "output_type": "execute_result",
          "data": {
            "text/plain": [
              "Index(['a', 'b', 'c', 'd'], dtype='object')"
            ]
          },
          "metadata": {
            "tags": []
          },
          "execution_count": 6
        }
      ]
    },
    {
      "cell_type": "code",
      "metadata": {
        "id": "CNgejeX1_2rr",
        "colab_type": "code",
        "colab": {
          "base_uri": "https://localhost:8080/",
          "height": 69
        },
        "outputId": "6522dc13-6009-480e-fc01-21b5df619c34"
      },
      "source": [
        "# create a Series who's index is a series of dates\n",
        "# between the two specified dates (inclusive)\n",
        "dates = pd.date_range('2014-07-01', '2014-07-06')\n",
        "dates"
      ],
      "execution_count": null,
      "outputs": [
        {
          "output_type": "execute_result",
          "data": {
            "text/plain": [
              "DatetimeIndex(['2014-07-01', '2014-07-02', '2014-07-03', '2014-07-04',\n",
              "               '2014-07-05', '2014-07-06'],\n",
              "              dtype='datetime64[ns]', freq='D')"
            ]
          },
          "metadata": {
            "tags": []
          },
          "execution_count": 7
        }
      ]
    },
    {
      "cell_type": "code",
      "metadata": {
        "id": "POllVDpu_44G",
        "colab_type": "code",
        "colab": {
          "base_uri": "https://localhost:8080/",
          "height": 138
        },
        "outputId": "53624b65-a3eb-4ca2-b71f-467ee68de97a"
      },
      "source": [
        "# create a Series with values (representing temperatures)\n",
        "# for each date in the index\n",
        "temps1 = Series([80, 82, 85, 90, 83, 87], \n",
        "                index = dates)\n",
        "temps1"
      ],
      "execution_count": null,
      "outputs": [
        {
          "output_type": "execute_result",
          "data": {
            "text/plain": [
              "2014-07-01    80\n",
              "2014-07-02    82\n",
              "2014-07-03    85\n",
              "2014-07-04    90\n",
              "2014-07-05    83\n",
              "2014-07-06    87\n",
              "Freq: D, dtype: int64"
            ]
          },
          "metadata": {
            "tags": []
          },
          "execution_count": 8
        }
      ]
    },
    {
      "cell_type": "code",
      "metadata": {
        "id": "aGv99-QE_69I",
        "colab_type": "code",
        "colab": {
          "base_uri": "https://localhost:8080/",
          "height": 34
        },
        "outputId": "4c81abce-16a6-4741-dc9d-2d0a8093d7f6"
      },
      "source": [
        "\n",
        "# calculate the mean of the values in the Series\n",
        "temps1.mean()"
      ],
      "execution_count": null,
      "outputs": [
        {
          "output_type": "execute_result",
          "data": {
            "text/plain": [
              "84.5"
            ]
          },
          "metadata": {
            "tags": []
          },
          "execution_count": 12
        }
      ]
    },
    {
      "cell_type": "code",
      "metadata": {
        "id": "-j01yD5Y_95e",
        "colab_type": "code",
        "colab": {
          "base_uri": "https://localhost:8080/",
          "height": 138
        },
        "outputId": "d84c584c-1687-4784-8573-8033ce606742"
      },
      "source": [
        "# create a second series of values using the same index\n",
        "temps2 = Series([70, 75, 69, 83, 79, 77], \n",
        "                index = dates)\n",
        "# the following aligns the two by their index values\n",
        "# and calculates the difference at those matching labels\n",
        "temp_diffs = temps1 - temps2\n",
        "temp_diffs"
      ],
      "execution_count": null,
      "outputs": [
        {
          "output_type": "execute_result",
          "data": {
            "text/plain": [
              "2014-07-01    10\n",
              "2014-07-02     7\n",
              "2014-07-03    16\n",
              "2014-07-04     7\n",
              "2014-07-05     4\n",
              "2014-07-06    10\n",
              "Freq: D, dtype: int64"
            ]
          },
          "metadata": {
            "tags": []
          },
          "execution_count": 13
        }
      ]
    },
    {
      "cell_type": "code",
      "metadata": {
        "id": "GAVbdf79AAmD",
        "colab_type": "code",
        "colab": {
          "base_uri": "https://localhost:8080/",
          "height": 34
        },
        "outputId": "5e36a0d5-b75d-4cd4-8307-dfcc05849c7e"
      },
      "source": [
        "# lookup a value by date using the index\n",
        "temp_diffs['2014-07-03']"
      ],
      "execution_count": null,
      "outputs": [
        {
          "output_type": "execute_result",
          "data": {
            "text/plain": [
              "16"
            ]
          },
          "metadata": {
            "tags": []
          },
          "execution_count": 14
        }
      ]
    },
    {
      "cell_type": "code",
      "metadata": {
        "id": "rUZbNmbGADce",
        "colab_type": "code",
        "colab": {
          "base_uri": "https://localhost:8080/",
          "height": 138
        },
        "outputId": "98961bdb-befd-4330-84aa-f5a8c870a255"
      },
      "source": [
        "# create a DataFrame from the two series objects temp1 and temp2\n",
        "# and give them column names\n",
        "temps_df = DataFrame(\n",
        "            {'Missoula': temps1, \n",
        "             'Philadelphia': temps2})\n",
        "temps_df\n"
      ],
      "execution_count": null,
      "outputs": [
        {
          "output_type": "execute_result",
          "data": {
            "text/plain": [
              "            Missoula  Philadelphia\n",
              "2014-07-01        80            70\n",
              "2014-07-02        82            75\n",
              "2014-07-03        85            69\n",
              "2014-07-04        90            83\n",
              "2014-07-05        83            79\n",
              "2014-07-06        87            77"
            ]
          },
          "metadata": {
            "tags": []
          },
          "execution_count": 20
        }
      ]
    },
    {
      "cell_type": "code",
      "metadata": {
        "id": "a4rpQNpUAFp8",
        "colab_type": "code",
        "colab": {
          "base_uri": "https://localhost:8080/",
          "height": 138
        },
        "outputId": "d9f15143-7c14-444c-e83d-de90663197a4"
      },
      "source": [
        "# get the column with the name Missoula\n",
        "temps_df['Missoula']"
      ],
      "execution_count": null,
      "outputs": [
        {
          "output_type": "execute_result",
          "data": {
            "text/plain": [
              "2014-07-01    80\n",
              "2014-07-02    82\n",
              "2014-07-03    85\n",
              "2014-07-04    90\n",
              "2014-07-05    83\n",
              "2014-07-06    87\n",
              "Freq: D, Name: Missoula, dtype: int64"
            ]
          },
          "metadata": {
            "tags": []
          },
          "execution_count": 21
        }
      ]
    },
    {
      "cell_type": "code",
      "metadata": {
        "id": "4gpV1IqKAIEr",
        "colab_type": "code",
        "colab": {
          "base_uri": "https://localhost:8080/",
          "height": 138
        },
        "outputId": "702a3ab6-3033-4b93-97c5-a784c788b61e"
      },
      "source": [
        "# likewise we can get just the Philadelphia column\n",
        "temps_df['Philadelphia']"
      ],
      "execution_count": null,
      "outputs": [
        {
          "output_type": "execute_result",
          "data": {
            "text/plain": [
              "2014-07-01    70\n",
              "2014-07-02    75\n",
              "2014-07-03    69\n",
              "2014-07-04    83\n",
              "2014-07-05    79\n",
              "2014-07-06    77\n",
              "Freq: D, Name: Philadelphia, dtype: int64"
            ]
          },
          "metadata": {
            "tags": []
          },
          "execution_count": 22
        }
      ]
    },
    {
      "cell_type": "code",
      "metadata": {
        "id": "BURNGDZVAJ9c",
        "colab_type": "code",
        "colab": {
          "base_uri": "https://localhost:8080/",
          "height": 138
        },
        "outputId": "9fda3687-649a-4a2c-c948-61a09519d6da"
      },
      "source": [
        "# return both columns in a different order\n",
        "temps_df[['Philadelphia', 'Missoula']]"
      ],
      "execution_count": null,
      "outputs": [
        {
          "output_type": "execute_result",
          "data": {
            "text/plain": [
              "            Philadelphia  Missoula\n",
              "2014-07-01            70        80\n",
              "2014-07-02            75        82\n",
              "2014-07-03            69        85\n",
              "2014-07-04            83        90\n",
              "2014-07-05            79        83\n",
              "2014-07-06            77        87"
            ]
          },
          "metadata": {
            "tags": []
          },
          "execution_count": 23
        }
      ]
    },
    {
      "cell_type": "code",
      "metadata": {
        "id": "8v6ZeIWgAOXq",
        "colab_type": "code",
        "colab": {
          "base_uri": "https://localhost:8080/",
          "height": 138
        },
        "outputId": "35aaa434-6231-4b16-cf5f-f130661402a5"
      },
      "source": [
        "# calculate the temperature difference between the two cities\n",
        "temps_df.Missoula - temps_df.Philadelphia"
      ],
      "execution_count": null,
      "outputs": [
        {
          "output_type": "execute_result",
          "data": {
            "text/plain": [
              "2014-07-01    10\n",
              "2014-07-02     7\n",
              "2014-07-03    16\n",
              "2014-07-04     7\n",
              "2014-07-05     4\n",
              "2014-07-06    10\n",
              "Freq: D, dtype: int64"
            ]
          },
          "metadata": {
            "tags": []
          },
          "execution_count": 24
        }
      ]
    },
    {
      "cell_type": "code",
      "metadata": {
        "id": "6jxx5hv2AQcr",
        "colab_type": "code",
        "colab": {
          "base_uri": "https://localhost:8080/",
          "height": 138
        },
        "outputId": "cc9020e8-0af2-4035-9947-0b06ffb66b5c"
      },
      "source": [
        "# add a column to temp_df which contains the difference in temps\n",
        "temps_df['Difference'] = temp_diffs\n",
        "temps_df"
      ],
      "execution_count": null,
      "outputs": [
        {
          "output_type": "execute_result",
          "data": {
            "text/plain": [
              "            Missoula  Philadelphia  Difference\n",
              "2014-07-01        80            70          10\n",
              "2014-07-02        82            75           7\n",
              "2014-07-03        85            69          16\n",
              "2014-07-04        90            83           7\n",
              "2014-07-05        83            79           4\n",
              "2014-07-06        87            77          10"
            ]
          },
          "metadata": {
            "tags": []
          },
          "execution_count": 25
        }
      ]
    },
    {
      "cell_type": "code",
      "metadata": {
        "id": "WDpf78t8ATkf",
        "colab_type": "code",
        "colab": {
          "base_uri": "https://localhost:8080/",
          "height": 34
        },
        "outputId": "dcc46eac-6457-4bc6-9cb6-a9328d33aa77"
      },
      "source": [
        "# get the columns, which is also an Index object\n",
        "temps_df.columns"
      ],
      "execution_count": null,
      "outputs": [
        {
          "output_type": "execute_result",
          "data": {
            "text/plain": [
              "Index(['Missoula', 'Philadelphia', 'Difference'], dtype='object')"
            ]
          },
          "metadata": {
            "tags": []
          },
          "execution_count": 26
        }
      ]
    },
    {
      "cell_type": "code",
      "metadata": {
        "id": "avlUTOVRAVGM",
        "colab_type": "code",
        "colab": {
          "base_uri": "https://localhost:8080/",
          "height": 86
        },
        "outputId": "bd74ccc1-18cb-4047-a608-ffa3aa6a3dcd"
      },
      "source": [
        "# slice the temp differences column for the rows at \n",
        "# location 1 through 4 (as though it is an array)\n",
        "temps_df.Difference[1:4]"
      ],
      "execution_count": null,
      "outputs": [
        {
          "output_type": "execute_result",
          "data": {
            "text/plain": [
              "2014-07-02     7\n",
              "2014-07-03    16\n",
              "2014-07-04     7\n",
              "Freq: D, Name: Difference, dtype: int64"
            ]
          },
          "metadata": {
            "tags": []
          },
          "execution_count": 27
        }
      ]
    },
    {
      "cell_type": "code",
      "metadata": {
        "id": "C6LwNGr5AXXt",
        "colab_type": "code",
        "colab": {
          "base_uri": "https://localhost:8080/",
          "height": 86
        },
        "outputId": "eee96f31-966d-4573-bb2f-16036d992f37"
      },
      "source": [
        "# get the row at array position 1\n",
        "temps_df.iloc[1]"
      ],
      "execution_count": null,
      "outputs": [
        {
          "output_type": "execute_result",
          "data": {
            "text/plain": [
              "Missoula        82\n",
              "Philadelphia    75\n",
              "Difference       7\n",
              "Name: 2014-07-02 00:00:00, dtype: int64"
            ]
          },
          "metadata": {
            "tags": []
          },
          "execution_count": 30
        }
      ]
    },
    {
      "cell_type": "code",
      "metadata": {
        "id": "CtwjL7gJAZVy",
        "colab_type": "code",
        "colab": {
          "base_uri": "https://localhost:8080/",
          "height": 356
        },
        "outputId": "bf71b3fa-9fe9-41d4-dedd-172ef19854a5"
      },
      "source": [
        "# the names of the columns have become the index\n",
        "# they have been 'pivoted'\n",
        "temps_df.ix[1].index"
      ],
      "execution_count": null,
      "outputs": [
        {
          "output_type": "error",
          "ename": "AttributeError",
          "evalue": "ignored",
          "traceback": [
            "\u001b[0;31m---------------------------------------------------------------------------\u001b[0m",
            "\u001b[0;31mAttributeError\u001b[0m                            Traceback (most recent call last)",
            "\u001b[0;32m<ipython-input-29-8e500da55c33>\u001b[0m in \u001b[0;36m<module>\u001b[0;34m()\u001b[0m\n\u001b[1;32m      1\u001b[0m \u001b[0;31m# the names of the columns have become the index\u001b[0m\u001b[0;34m\u001b[0m\u001b[0;34m\u001b[0m\u001b[0;34m\u001b[0m\u001b[0m\n\u001b[1;32m      2\u001b[0m \u001b[0;31m# they have been 'pivoted'\u001b[0m\u001b[0;34m\u001b[0m\u001b[0;34m\u001b[0m\u001b[0;34m\u001b[0m\u001b[0m\n\u001b[0;32m----> 3\u001b[0;31m \u001b[0mtemps_df\u001b[0m\u001b[0;34m.\u001b[0m\u001b[0mix\u001b[0m\u001b[0;34m[\u001b[0m\u001b[0;36m1\u001b[0m\u001b[0;34m]\u001b[0m\u001b[0;34m.\u001b[0m\u001b[0mindex\u001b[0m\u001b[0;34m\u001b[0m\u001b[0;34m\u001b[0m\u001b[0m\n\u001b[0m",
            "\u001b[0;32m/usr/local/lib/python3.6/dist-packages/pandas/core/generic.py\u001b[0m in \u001b[0;36m__getattr__\u001b[0;34m(self, name)\u001b[0m\n\u001b[1;32m   5272\u001b[0m             \u001b[0;32mif\u001b[0m \u001b[0mself\u001b[0m\u001b[0;34m.\u001b[0m\u001b[0m_info_axis\u001b[0m\u001b[0;34m.\u001b[0m\u001b[0m_can_hold_identifiers_and_holds_name\u001b[0m\u001b[0;34m(\u001b[0m\u001b[0mname\u001b[0m\u001b[0;34m)\u001b[0m\u001b[0;34m:\u001b[0m\u001b[0;34m\u001b[0m\u001b[0;34m\u001b[0m\u001b[0m\n\u001b[1;32m   5273\u001b[0m                 \u001b[0;32mreturn\u001b[0m \u001b[0mself\u001b[0m\u001b[0;34m[\u001b[0m\u001b[0mname\u001b[0m\u001b[0;34m]\u001b[0m\u001b[0;34m\u001b[0m\u001b[0;34m\u001b[0m\u001b[0m\n\u001b[0;32m-> 5274\u001b[0;31m             \u001b[0;32mreturn\u001b[0m \u001b[0mobject\u001b[0m\u001b[0;34m.\u001b[0m\u001b[0m__getattribute__\u001b[0m\u001b[0;34m(\u001b[0m\u001b[0mself\u001b[0m\u001b[0;34m,\u001b[0m \u001b[0mname\u001b[0m\u001b[0;34m)\u001b[0m\u001b[0;34m\u001b[0m\u001b[0;34m\u001b[0m\u001b[0m\n\u001b[0m\u001b[1;32m   5275\u001b[0m \u001b[0;34m\u001b[0m\u001b[0m\n\u001b[1;32m   5276\u001b[0m     \u001b[0;32mdef\u001b[0m \u001b[0m__setattr__\u001b[0m\u001b[0;34m(\u001b[0m\u001b[0mself\u001b[0m\u001b[0;34m,\u001b[0m \u001b[0mname\u001b[0m\u001b[0;34m:\u001b[0m \u001b[0mstr\u001b[0m\u001b[0;34m,\u001b[0m \u001b[0mvalue\u001b[0m\u001b[0;34m)\u001b[0m \u001b[0;34m->\u001b[0m \u001b[0;32mNone\u001b[0m\u001b[0;34m:\u001b[0m\u001b[0;34m\u001b[0m\u001b[0;34m\u001b[0m\u001b[0m\n",
            "\u001b[0;31mAttributeError\u001b[0m: 'DataFrame' object has no attribute 'ix'"
          ]
        }
      ]
    },
    {
      "cell_type": "code",
      "metadata": {
        "id": "VUEN8Dm3Abst",
        "colab_type": "code",
        "colab": {}
      },
      "source": [
        "# retrieve row by index label using .loc\n",
        "temps_df.loc['2014-07-03']"
      ],
      "execution_count": null,
      "outputs": []
    },
    {
      "cell_type": "code",
      "metadata": {
        "id": "7iiIOne7AfS8",
        "colab_type": "code",
        "colab": {}
      },
      "source": [
        "# using 0-based location\n",
        "temps_df.iloc[[1, 3, 5]].Difference"
      ],
      "execution_count": null,
      "outputs": []
    },
    {
      "cell_type": "code",
      "metadata": {
        "id": "oGM0r3usAiXR",
        "colab_type": "code",
        "colab": {}
      },
      "source": [
        "# which values in the Missoula column are > 82?\n",
        "temps_df.Missoula > 82"
      ],
      "execution_count": null,
      "outputs": []
    },
    {
      "cell_type": "code",
      "metadata": {
        "id": "5B3aGrsWAkq-",
        "colab_type": "code",
        "colab": {
          "base_uri": "https://localhost:8080/",
          "height": 184
        },
        "outputId": "c4b3455c-963d-4135-bac0-aa22d90b7247"
      },
      "source": [
        "# return the rows where the temps for Missoula > 82\n",
        "temps_df[temps_df.Missoula > 82]"
      ],
      "execution_count": null,
      "outputs": [
        {
          "output_type": "error",
          "ename": "NameError",
          "evalue": "ignored",
          "traceback": [
            "\u001b[0;31m---------------------------------------------------------------------------\u001b[0m",
            "\u001b[0;31mNameError\u001b[0m                                 Traceback (most recent call last)",
            "\u001b[0;32m<ipython-input-11-f5289e9251ff>\u001b[0m in \u001b[0;36m<module>\u001b[0;34m()\u001b[0m\n\u001b[1;32m      1\u001b[0m \u001b[0;31m# return the rows where the temps for Missoula > 82\u001b[0m\u001b[0;34m\u001b[0m\u001b[0;34m\u001b[0m\u001b[0;34m\u001b[0m\u001b[0m\n\u001b[0;32m----> 2\u001b[0;31m \u001b[0mtemps_df\u001b[0m\u001b[0;34m[\u001b[0m\u001b[0mtemps_df\u001b[0m\u001b[0;34m.\u001b[0m\u001b[0mMissoula\u001b[0m \u001b[0;34m>\u001b[0m \u001b[0;36m82\u001b[0m\u001b[0;34m]\u001b[0m\u001b[0;34m\u001b[0m\u001b[0;34m\u001b[0m\u001b[0m\n\u001b[0m",
            "\u001b[0;31mNameError\u001b[0m: name 'temps_df' is not defined"
          ]
        }
      ]
    },
    {
      "cell_type": "markdown",
      "metadata": {
        "id": "QgjVi3zLBN9K",
        "colab_type": "text"
      },
      "source": [
        "Загрузга из csv- файла в DataFrame"
      ]
    },
    {
      "cell_type": "code",
      "metadata": {
        "id": "75Zk510yCdRv",
        "colab_type": "code",
        "colab": {}
      },
      "source": [
        "from google.colab import files\n",
        "uploaded = files.upload()\n",
        "# display the contents of test1.csv\n",
        "# which command to use depends on your OS\n",
        "#!cat uploaded # on non-windows systems\n",
        "!type uploaded # on windows systems"
      ],
      "execution_count": null,
      "outputs": []
    }
  ]
}